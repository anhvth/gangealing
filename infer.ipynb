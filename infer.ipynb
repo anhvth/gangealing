{
 "cells": [
  {
   "cell_type": "code",
   "execution_count": 1,
   "id": "e40e7ef5-a53a-4aa0-933e-6d68f09b469a",
   "metadata": {},
   "outputs": [],
   "source": [
    "%load_ext autoreload\n",
    "%autoreload 2"
   ]
  },
  {
   "cell_type": "code",
   "execution_count": 2,
   "id": "4a82f4b3-83d7-40e3-9a4e-aa886b514357",
   "metadata": {},
   "outputs": [
    {
     "name": "stderr",
     "output_type": "stream",
     "text": [
      "/home/anhvth8/.conda/envs/gg/lib/python3.8/site-packages/tqdm/auto.py:22: TqdmWarning: IProgress not found. Please update jupyter and ipywidgets. See https://ipywidgets.readthedocs.io/en/stable/user_install.html\n",
      "  from .autonotebook import tqdm as notebook_tqdm\n"
     ]
    }
   ],
   "source": [
    "from avcv.all import *\n",
    "from models import get_stn\n",
    "from utils.download import download_model, PRETRAINED_TEST_HYPERPARAMS\n",
    "from utils.vis_tools.helpers import load_pil, save_image\n",
    "\n",
    "model_class = 'ir_face'  # choose the class you want to use\n",
    "resolution = 256  # resolution the input image will be resized to (can be any power of 2)\n",
    "# image_path = 'my_image.jpeg'  # path to image you want to align\n",
    "\n"
   ]
  },
  {
   "cell_type": "code",
   "execution_count": 3,
   "id": "fa4fe14c-a907-411a-8b6d-bade6e69f6a2",
   "metadata": {},
   "outputs": [],
   "source": [
    "def load_pil(path, resolution=None):\n",
    "    arr = mmcv.imread(path, 0)\n",
    "    arr = np.stack([arr]*3, -1)\n",
    "    img = Image.fromarray(arr)\n",
    "    if resolution is not None:\n",
    "        img = img.resize((resolution, resolution), Image.LANCZOS)\n",
    "    img = torch.tensor(np.asarray(img), device='cpu', dtype=torch.float).unsqueeze_(0).permute(0, 3, 1, 2)\n",
    "    img = img.div(255.0).add(-0.5).mul(2)  # [-1, 1]\n",
    "    return img  "
   ]
  },
  {
   "cell_type": "code",
   "execution_count": 4,
   "id": "4be90a3b-7d5f-4870-b47f-4b71b28426aa",
   "metadata": {},
   "outputs": [],
   "source": [
    "class DS:\n",
    "    def __init__(self, paths):\n",
    "        self.paths = paths\n",
    "    def __getitem__(self, idx):\n",
    "        return load_pil(self.paths[idx], resolution)[0]\n",
    "    def __len__(self):\n",
    "        return len(self.paths)"
   ]
  },
  {
   "cell_type": "code",
   "execution_count": 5,
   "id": "ef0a1d45-0d37-4fb7-bbe3-5564d76fff61",
   "metadata": {},
   "outputs": [],
   "source": [
    "# df = pd.read_csv('/data/RLDD/')"
   ]
  },
  {
   "cell_type": "code",
   "execution_count": null,
   "id": "ff389b49-c456-44f6-8f72-cf8fa4794268",
   "metadata": {},
   "outputs": [],
   "source": []
  },
  {
   "cell_type": "code",
   "execution_count": 66,
   "id": "d7502605-5976-46d8-a33a-063933797025",
   "metadata": {},
   "outputs": [],
   "source": [
    "from models import total_variation_loss\n",
    "\n",
    "@torch.inference_mode()\n",
    "def compute_flow_scores(batch, t):\n",
    "    # loader = img_dataloader(args.real_data_path, resolution=args.real_size, batch_size=args.batch, shuffle=False,\n",
    "    #                         distributed=args.distributed, infinite=False, drop_last=False)\n",
    "    # num_total = len(loader.dataset)\n",
    "    # scores = []\n",
    "    # pbar = tqdm(loader) if primary() else loader\n",
    "    # for batch in pbar:\n",
    "    batch = batch.to('cuda')\n",
    "    # batch, _, _ = determine_flips(args, t, None, batch)\n",
    "    _, flows = t(batch, return_flow=True, iters=1, padding_mode='border')\n",
    "    smoothness = total_variation_loss(flows, reduce_batch=False)\n",
    "    return smoothness\n",
    "    #     scores.append(smoothness)\n",
    "    # scores = -torch.cat(scores, 0)  # lower (more negative) scores indicate worse images\n",
    "    # synchronize()\n",
    "    # scores = all_gather(scores, cat=False)\n",
    "    # scores = scores.permute(1, 0).reshape(-1)[:num_total]\n",
    "    # if primary():\n",
    "    #     score_path = f'{args.real_data_path}/flow_scores.pt'\n",
    "    #     torch.save(scores.cpu(), score_path)\n",
    "    #     print(f'num_scores = {scores.size(0)}')\n",
    "    #     print(f'Flow scores saved at {score_path}')\n",
    "    # return scores"
   ]
  },
  {
   "cell_type": "code",
   "execution_count": 6,
   "id": "2a9c0a05-0321-4cdc-b00f-e87be07e3aec",
   "metadata": {},
   "outputs": [],
   "source": [
    "def unnorm(img):\n",
    "    img = (img-img.min())/(img.max()-img.min())\n",
    "    img = img*255\n",
    "    img = img.permute([1,2,0]).cpu().numpy().astype('uint8')\n",
    "    return img\n",
    "    # return img.mul(255).add_(0.5).clamp_(0, 255).permute(1, 2, 0).to(\"cpu\", torch.uint8).numpy()"
   ]
  },
  {
   "cell_type": "code",
   "execution_count": 7,
   "id": "f9c8e125-1e48-4f1d-af6d-57236dd4b81a",
   "metadata": {},
   "outputs": [],
   "source": [
    "ckpt = download_model(model_class)  # download model weights\n",
    "stn = get_stn(['similarity', 'flow'], flow_size=128, supersize=resolution).to('cuda')  # instantiate STN\n",
    "stn.load_state_dict(ckpt['t_ema'])  # load weights\n",
    "test_kwargs = PRETRAINED_TEST_HYPERPARAMS[model_class]  # load test-time hyperparameters\n"
   ]
  },
  {
   "cell_type": "code",
   "execution_count": 88,
   "id": "7db37b08-41f6-4c11-8914-9cf199be09f5",
   "metadata": {},
   "outputs": [
    {
     "name": "stdout",
     "output_type": "stream",
     "text": [
      "90209\n"
     ]
    }
   ],
   "source": [
    "import torch\n",
    "paths = glob('/data/DMS_Drowsiness/all_video_symlink/4999d3cbd30f082fedae237fd867814b/croped_faces/*')\n",
    "print(len(paths))\n",
    "paths = list(sorted(paths))\n",
    "l = len(paths)//100\n",
    "s = l*60\n",
    "paths = paths[s:s+l]\n",
    "ds = DS(paths)\n",
    "dl = torch.utils.data.DataLoader(ds, 10, num_workers=10)"
   ]
  },
  {
   "cell_type": "code",
   "execution_count": 89,
   "id": "523eda5b-7200-4d2e-8451-8f2b97e6553b",
   "metadata": {},
   "outputs": [
    {
     "data": {
      "text/plain": [
       "91"
      ]
     },
     "execution_count": 89,
     "metadata": {},
     "output_type": "execute_result"
    }
   ],
   "source": [
    "len(dl)"
   ]
  },
  {
   "cell_type": "code",
   "execution_count": 90,
   "id": "6ba38ff8-1644-4a30-9572-b167290e17aa",
   "metadata": {},
   "outputs": [
    {
     "name": "stderr",
     "output_type": "stream",
     "text": [
      "100%|████████████████████████████████████████████████████████████████████████████████████████████████████████████████████████████████████████████████| 91/91 [00:09<00:00,  9.69it/s]\n"
     ]
    }
   ],
   "source": [
    "outs = []\n",
    "scores = []\n",
    "with torch.no_grad():\n",
    "    pbar = tqdm(dl, total=len(dl))\n",
    "    for input_img in pbar:\n",
    "\n",
    "        aligned_img = stn.forward(input_img.cuda(), output_resolution=resolution, **test_kwargs)  # forward pass through the STN\n",
    "        # save_image(aligned_img, 'output.png', normalize=True, range=(-1, 1))  # save to disk\n",
    "        aligned_img = [unnorm(_) for _ in aligned_img]\n",
    "        outs.extend(aligned_img)\n",
    "        scores.append(compute_flow_scores(input_img, stn))\n",
    "scores = -torch.cat(scores)"
   ]
  },
  {
   "cell_type": "code",
   "execution_count": 91,
   "id": "88a7991e-ff27-40ad-acd2-a1358e2ee7e0",
   "metadata": {},
   "outputs": [],
   "source": [
    "norm_scores = (scores-scores.min())/(scores.max()-scores.min())"
   ]
  },
  {
   "cell_type": "code",
   "execution_count": 96,
   "id": "2704bba9-4a37-4c91-a58d-3e9ed4cb3dc2",
   "metadata": {},
   "outputs": [],
   "source": [
    "cat_ims = []\n",
    "for imwarp, score, path in zip(outs, norm_scores, paths):\n",
    "    img = mmcv.imread(path, channel_order='bgr')\n",
    "    img = mmcv.imresize_like(img, imwarp)\n",
    "    cat_im = np.concatenate([img, imwarp], 1)\n",
    "    cat_im = put_text(cat_im, (10, 40), f'{score*100:0.2f}', (0, int(255*score), 255-int(255*score)))\n",
    "    cat_ims.append(cat_im)"
   ]
  },
  {
   "cell_type": "code",
   "execution_count": 97,
   "id": "6013e7e4-da81-4a2c-9c6f-c8251e852869",
   "metadata": {},
   "outputs": [
    {
     "name": "stderr",
     "output_type": "stream",
     "text": [
      "2022-07-07 04:57:08.970 | INFO     | avcv.utils:images_to_video:283 - Write video, output_size: (320, 160)\n"
     ]
    },
    {
     "name": "stdout",
     "output_type": "stream",
     "text": [
      "[>>>>>>>>>>>>>>>>>>>>>>>>>>>>>] 902/902, 794.5 task/s, elapsed: 1s, ETA:     0s"
     ]
    },
    {
     "name": "stderr",
     "output_type": "stream",
     "text": [
      "2022-07-07 04:57:10.107 | INFO     | avcv.utils:images_to_video:293 - -> /home/anhvth8/gitprojects/gangealing/vis.mp4\n"
     ]
    }
   ],
   "source": [
    "images_to_video(cat_ims, 'vis.mp4', output_size=(320,160))"
   ]
  },
  {
   "cell_type": "code",
   "execution_count": null,
   "id": "68e361b7-5d5b-4f0e-b25d-92ec294287f0",
   "metadata": {},
   "outputs": [],
   "source": []
  },
  {
   "cell_type": "code",
   "execution_count": null,
   "id": "b3aa615c-d61f-49d4-afc5-e9ec1482ec43",
   "metadata": {},
   "outputs": [],
   "source": []
  }
 ],
 "metadata": {
  "kernelspec": {
   "display_name": "Python 3 (ipykernel)",
   "language": "python",
   "name": "python3"
  },
  "language_info": {
   "codemirror_mode": {
    "name": "ipython",
    "version": 3
   },
   "file_extension": ".py",
   "mimetype": "text/x-python",
   "name": "python",
   "nbconvert_exporter": "python",
   "pygments_lexer": "ipython3",
   "version": "3.8.13"
  }
 },
 "nbformat": 4,
 "nbformat_minor": 5
}
