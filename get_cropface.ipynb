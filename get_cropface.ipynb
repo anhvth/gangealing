{
 "cells": [
  {
   "cell_type": "code",
   "execution_count": 1,
   "id": "4df9311c-6f95-432d-b592-12cd5375a6c0",
   "metadata": {},
   "outputs": [
    {
     "name": "stderr",
     "output_type": "stream",
     "text": [
      "/home/anhvth8/.conda/envs/gg/lib/python3.8/site-packages/tqdm/auto.py:22: TqdmWarning: IProgress not found. Please update jupyter and ipywidgets. See https://ipywidgets.readthedocs.io/en/stable/user_install.html\n",
      "  from .autonotebook import tqdm as notebook_tqdm\n"
     ]
    }
   ],
   "source": [
    "from avcv.all import *"
   ]
  },
  {
   "cell_type": "code",
   "execution_count": 40,
   "id": "3ee83d47-cbea-400e-b498-091fbc446068",
   "metadata": {},
   "outputs": [],
   "source": [
    "meta = pd.read_csv('/data/DMS_Drowsiness/all_video_symlink/meta.csv')"
   ]
  },
  {
   "cell_type": "code",
   "execution_count": 41,
   "id": "53b9cf2f-1ed1-4b45-a089-ee11b4d279d4",
   "metadata": {},
   "outputs": [],
   "source": [
    "out_dir = 'data/drowsy_cropped/'"
   ]
  },
  {
   "cell_type": "code",
   "execution_count": 6,
   "id": "88e2ff88-0f59-4282-b0be-54c384385bc7",
   "metadata": {},
   "outputs": [
    {
     "name": "stdout",
     "output_type": "stream",
     "text": [
      "annotations  bytetrack.csv  bytrack_onetrack.csv  croped_faces\timages\n"
     ]
    }
   ],
   "source": [
    "dd = osp.splitext(meta.iloc[0].video_symlink)[0]\n",
    "!ls {dd}"
   ]
  },
  {
   "cell_type": "code",
   "execution_count": 43,
   "id": "66da4f8d-af52-4b60-b908-53fe76273fbd",
   "metadata": {},
   "outputs": [],
   "source": [
    "# data = []\n",
    "# cmds = []\n",
    "# i = 0\n",
    "# for _, row in meta.iterrows():\n",
    "#     dd = osp.splitext(row.video_symlink)[0]\n",
    "#     crop_dir = osp.join(dd, 'croped_faces')\n",
    "#     # new_dir = osp.join(out_dir, osp.basename(dd))\n",
    "#     new_dir = crop_dir.replace('/data/RLDD/all_video_symlink/', out_dir)\n",
    "#     os.makedirs(osp.dirname(new_dir), exist_ok=1)\n",
    "#     data.append([osp.basename(row.path), osp.basename(dd)])\n",
    "#     cmd = f'tmux new -s cp_{i} -d \"cp -r {crop_dir} {new_dir}\"'\n",
    "#     i+=1\n",
    "#     cmds.append(cmd)\n",
    "#     os.system(cmd)"
   ]
  },
  {
   "cell_type": "code",
   "execution_count": 42,
   "id": "58a0d989-9a62-4c4f-9b28-ff232f2e59a6",
   "metadata": {},
   "outputs": [
    {
     "data": {
      "text/html": [
       "<div>\n",
       "<style scoped>\n",
       "    .dataframe tbody tr th:only-of-type {\n",
       "        vertical-align: middle;\n",
       "    }\n",
       "\n",
       "    .dataframe tbody tr th {\n",
       "        vertical-align: top;\n",
       "    }\n",
       "\n",
       "    .dataframe thead th {\n",
       "        text-align: right;\n",
       "    }\n",
       "</style>\n",
       "<table border=\"1\" class=\"dataframe\">\n",
       "  <thead>\n",
       "    <tr style=\"text-align: right;\">\n",
       "      <th></th>\n",
       "      <th>Unnamed: 0</th>\n",
       "      <th>name</th>\n",
       "      <th>meta</th>\n",
       "      <th>exist</th>\n",
       "      <th>video_symlink</th>\n",
       "    </tr>\n",
       "  </thead>\n",
       "  <tbody>\n",
       "    <tr>\n",
       "      <th>0</th>\n",
       "      <td>49</td>\n",
       "      <td>/data/DMS_Drowsiness/Drowsiness/Sensing_Steeri...</td>\n",
       "      <td>Metadata/Fail_Case/NguyenNgocMinhChau/NguyenNg...</td>\n",
       "      <td>False</td>\n",
       "      <td>/data/DMS_Drowsiness/all_video_symlink/d6cc64b...</td>\n",
       "    </tr>\n",
       "    <tr>\n",
       "      <th>1</th>\n",
       "      <td>26</td>\n",
       "      <td>/data/DMS_Drowsiness/Drowsiness/Sensing_AColum...</td>\n",
       "      <td>Metadata/Fail_Case/SarmadAhmad/SarmadAhmad_dro...</td>\n",
       "      <td>False</td>\n",
       "      <td>/data/DMS_Drowsiness/all_video_symlink/87d90c1...</td>\n",
       "    </tr>\n",
       "    <tr>\n",
       "      <th>2</th>\n",
       "      <td>25</td>\n",
       "      <td>/data/DMS_Drowsiness/Drowsiness/Sensing_AColum...</td>\n",
       "      <td>Metadata/Fail_Case/NguyenThiQuynhMai/mai_drows...</td>\n",
       "      <td>False</td>\n",
       "      <td>/data/DMS_Drowsiness/all_video_symlink/02c7cb1...</td>\n",
       "    </tr>\n",
       "    <tr>\n",
       "      <th>3</th>\n",
       "      <td>24</td>\n",
       "      <td>/data/DMS_Drowsiness/Drowsiness/Sensing_AColum...</td>\n",
       "      <td>Metadata/Fail_Case/NguyenNgocMinhChau/NguyenNg...</td>\n",
       "      <td>False</td>\n",
       "      <td>/data/DMS_Drowsiness/all_video_symlink/9d39ee7...</td>\n",
       "    </tr>\n",
       "    <tr>\n",
       "      <th>4</th>\n",
       "      <td>23</td>\n",
       "      <td>/data/DMS_Drowsiness/Drowsiness/Sensing_AColum...</td>\n",
       "      <td>Metadata/Fail_Case/NguyenCongTien/NguyenCongTi...</td>\n",
       "      <td>False</td>\n",
       "      <td>/data/DMS_Drowsiness/all_video_symlink/bc9e6cb...</td>\n",
       "    </tr>\n",
       "    <tr>\n",
       "      <th>...</th>\n",
       "      <td>...</td>\n",
       "      <td>...</td>\n",
       "      <td>...</td>\n",
       "      <td>...</td>\n",
       "      <td>...</td>\n",
       "    </tr>\n",
       "    <tr>\n",
       "      <th>66</th>\n",
       "      <td>36</td>\n",
       "      <td>/data/DMS_Drowsiness/Drowsiness/Sensing_AColum...</td>\n",
       "      <td>Metadata/NguyenDaiHung/NguyenDaiHung_Sensing_S...</td>\n",
       "      <td>True</td>\n",
       "      <td>/data/DMS_Drowsiness/all_video_symlink/a6b847b...</td>\n",
       "    </tr>\n",
       "    <tr>\n",
       "      <th>67</th>\n",
       "      <td>37</td>\n",
       "      <td>/data/DMS_Drowsiness/Drowsiness/Sensing_AColum...</td>\n",
       "      <td>Metadata/NguyenDaiHung/NguyenDaiHung_Sensing_S...</td>\n",
       "      <td>True</td>\n",
       "      <td>/data/DMS_Drowsiness/all_video_symlink/4ad8185...</td>\n",
       "    </tr>\n",
       "    <tr>\n",
       "      <th>68</th>\n",
       "      <td>38</td>\n",
       "      <td>/data/DMS_Drowsiness/Drowsiness/Sensing_AColum...</td>\n",
       "      <td>Metadata/NguyenVanDong/NguyenVanDong_Sensing_s...</td>\n",
       "      <td>True</td>\n",
       "      <td>/data/DMS_Drowsiness/all_video_symlink/3febf13...</td>\n",
       "    </tr>\n",
       "    <tr>\n",
       "      <th>69</th>\n",
       "      <td>20</td>\n",
       "      <td>/data/DMS_Drowsiness/Drowsiness/Erae_SteeringW...</td>\n",
       "      <td>Metadata/TranPhuongAnh/TranPhuongAnh_Erae_Sess...</td>\n",
       "      <td>True</td>\n",
       "      <td>/data/DMS_Drowsiness/all_video_symlink/575a0ba...</td>\n",
       "    </tr>\n",
       "    <tr>\n",
       "      <th>70</th>\n",
       "      <td>70</td>\n",
       "      <td>/data/DMS_Drowsiness/Drowsiness/Sensing_Steeri...</td>\n",
       "      <td>Metadata/TranPhuongAnh/TranPhuongAnh_Sensing_S...</td>\n",
       "      <td>True</td>\n",
       "      <td>/data/DMS_Drowsiness/all_video_symlink/4462a4b...</td>\n",
       "    </tr>\n",
       "  </tbody>\n",
       "</table>\n",
       "<p>71 rows × 5 columns</p>\n",
       "</div>"
      ],
      "text/plain": [
       "    Unnamed: 0                                               name  \\\n",
       "0           49  /data/DMS_Drowsiness/Drowsiness/Sensing_Steeri...   \n",
       "1           26  /data/DMS_Drowsiness/Drowsiness/Sensing_AColum...   \n",
       "2           25  /data/DMS_Drowsiness/Drowsiness/Sensing_AColum...   \n",
       "3           24  /data/DMS_Drowsiness/Drowsiness/Sensing_AColum...   \n",
       "4           23  /data/DMS_Drowsiness/Drowsiness/Sensing_AColum...   \n",
       "..         ...                                                ...   \n",
       "66          36  /data/DMS_Drowsiness/Drowsiness/Sensing_AColum...   \n",
       "67          37  /data/DMS_Drowsiness/Drowsiness/Sensing_AColum...   \n",
       "68          38  /data/DMS_Drowsiness/Drowsiness/Sensing_AColum...   \n",
       "69          20  /data/DMS_Drowsiness/Drowsiness/Erae_SteeringW...   \n",
       "70          70  /data/DMS_Drowsiness/Drowsiness/Sensing_Steeri...   \n",
       "\n",
       "                                                 meta  exist  \\\n",
       "0   Metadata/Fail_Case/NguyenNgocMinhChau/NguyenNg...  False   \n",
       "1   Metadata/Fail_Case/SarmadAhmad/SarmadAhmad_dro...  False   \n",
       "2   Metadata/Fail_Case/NguyenThiQuynhMai/mai_drows...  False   \n",
       "3   Metadata/Fail_Case/NguyenNgocMinhChau/NguyenNg...  False   \n",
       "4   Metadata/Fail_Case/NguyenCongTien/NguyenCongTi...  False   \n",
       "..                                                ...    ...   \n",
       "66  Metadata/NguyenDaiHung/NguyenDaiHung_Sensing_S...   True   \n",
       "67  Metadata/NguyenDaiHung/NguyenDaiHung_Sensing_S...   True   \n",
       "68  Metadata/NguyenVanDong/NguyenVanDong_Sensing_s...   True   \n",
       "69  Metadata/TranPhuongAnh/TranPhuongAnh_Erae_Sess...   True   \n",
       "70  Metadata/TranPhuongAnh/TranPhuongAnh_Sensing_S...   True   \n",
       "\n",
       "                                        video_symlink  \n",
       "0   /data/DMS_Drowsiness/all_video_symlink/d6cc64b...  \n",
       "1   /data/DMS_Drowsiness/all_video_symlink/87d90c1...  \n",
       "2   /data/DMS_Drowsiness/all_video_symlink/02c7cb1...  \n",
       "3   /data/DMS_Drowsiness/all_video_symlink/9d39ee7...  \n",
       "4   /data/DMS_Drowsiness/all_video_symlink/bc9e6cb...  \n",
       "..                                                ...  \n",
       "66  /data/DMS_Drowsiness/all_video_symlink/a6b847b...  \n",
       "67  /data/DMS_Drowsiness/all_video_symlink/4ad8185...  \n",
       "68  /data/DMS_Drowsiness/all_video_symlink/3febf13...  \n",
       "69  /data/DMS_Drowsiness/all_video_symlink/575a0ba...  \n",
       "70  /data/DMS_Drowsiness/all_video_symlink/4462a4b...  \n",
       "\n",
       "[71 rows x 5 columns]"
      ]
     },
     "execution_count": 42,
     "metadata": {},
     "output_type": "execute_result"
    }
   ],
   "source": [
    "# meta."
   ]
  },
  {
   "cell_type": "code",
   "execution_count": 33,
   "id": "6f56fdec-30db-434e-b2ce-fd90a27654b9",
   "metadata": {},
   "outputs": [
    {
     "data": {
      "text/plain": [
       "'tmux new -s cp_0 -t \"cp -r /data/RLDD/all_video_symlink/4b24614e99e56fe90b534c715bb18592/croped_faces data/rldd_cropped/4b24614e99e56fe90b534c715bb18592/croped_faces\"'"
      ]
     },
     "execution_count": 33,
     "metadata": {},
     "output_type": "execute_result"
    }
   ],
   "source": [
    "cmds[0]"
   ]
  },
  {
   "cell_type": "code",
   "execution_count": null,
   "id": "06639484-f74a-4c0e-8317-ac3d8954c9ae",
   "metadata": {},
   "outputs": [],
   "source": []
  }
 ],
 "metadata": {
  "kernelspec": {
   "display_name": "Python 3 (ipykernel)",
   "language": "python",
   "name": "python3"
  },
  "language_info": {
   "codemirror_mode": {
    "name": "ipython",
    "version": 3
   },
   "file_extension": ".py",
   "mimetype": "text/x-python",
   "name": "python",
   "nbconvert_exporter": "python",
   "pygments_lexer": "ipython3",
   "version": "3.8.11"
  }
 },
 "nbformat": 4,
 "nbformat_minor": 5
}
